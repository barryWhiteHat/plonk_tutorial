{
 "cells": [
  {
   "cell_type": "markdown",
   "metadata": {},
   "source": [
    "# Plonk Tutorial\n",
    "\n",
    "PLONK is a proof system for computational integrity that sets itself apart from other SNARKs by allowing for a universal trusted setup while rivaling Groth16 efficiency. A universal trusted setup means that one setup can serve all circuits up to a certain size, there is no circuit-specific part. PLONKs core innovation is an method of arithemization in which wires are connected with a permutation check.\n",
    "\n",
    "This tutorial builds on knowledge from previous tutorials[insert link] and on [Vitaliks blog](https://vitalik.ca/general/2019/09/22/plonk.html) on the topic. It will be hard to understand what's going on if you haven't read those before. We closely follow the [PLONK paper](https://eprint.iacr.org/2019/953.pdf) protocol described from p.27, you should have that at hand while following along. After this tutorial, you will have a working version of PLONK (even the ZK version of PLONK). The code is optimized for readability and simplicity, not for performance or security.\n",
    "\n",
    "## Index\n",
    "1. Prerequesites\n",
    "2. Example Problem Description\n",
    "3. Setup Phase\n",
    "4. Prover Phase\n",
    "5. Verifier Phase\n",
    "\n",
    "## 1. Prerequisites\n",
    "\n",
    "### Field\n",
    "All operations are taking place in a finite field. We are copying `finitefield/` from the [babySNARK repo](https://github.com/initc3/babySNARK), which is a generic library for finite fields, and polynomials defined over them.\n",
    "\n",
    "### Polynomials\n",
    "Polynomials are an essential part of every succinct ZKP. We will have to perform a number of multiplications and divisions on polynomials, and this can be done more efficiently in the [Lagrange basis](https://en.wikipedia.org/wiki/Lagrange_polynomial) than in the monomial basis[https://en.wikipedia.org/wiki/Monomial_basis]. We will often need to switch between these representations, which can be done efficiently using [FFTs](https://vitalik.ca/general/2019/05/12/fft.html). The machinery for this in `polynomial_evalrep.py`, and is also taken from the brilliant babySNARK repo.\n",
    "\n",
    "### Roots of unity\n",
    "The polynomials need to evaluate to very specify values determined by the computation we want to verify. However, we have free choice of the evaluation domain. So instead of just arbitrarily choosing `x = 1, 2…, n`, we select roots of unity as our evaluation domain. Read more on that in [Vitaliks series on STARKs](https://vitalik.ca/general/2017/11/09/starks_part_1.html) tl;dr: it allows for faster FFTs and quick evaluation of a vanishing polynomial.\n",
    "\n",
    "### Elliptic curves and pairings\n",
    "Pairings are the secret sauce of many SNARKs such as this one. `ssbls.py` is an implementation of pairing cryptography, including BLS12-381; the crypto comes from `py_ecc`. The BLS12-381 is chosen in part because it's FFT friendly. To use radix-2 FFT, we need to find m^th roots of unity, where m is a power of two, and m is the degree bound of the polynomial we want to represent. In the BLS12-381, we can find primitive n^th roots of unity, for any power of two n up to n <= 2^32."
   ]
  },
  {
   "cell_type": "code",
   "execution_count": null,
   "metadata": {},
   "outputs": [],
   "source": [
    "from finitefield.numbertype import typecheck, memoize, DomainElement\n",
    "from polynomial_evalrep import get_omega, polynomialsEvalRep\n",
    "import sys\n",
    "!{sys.executable} -m pip install py_ecc\n",
    "from ssbls12 import Fp, Poly, Group, SS_BLS12_381\n",
    "import random\n",
    "import numpy as np\n",
    "\n",
    "# I am using a Type1 (symmetric) Bilinear group setting for simplicity\n",
    "G = Group.G\n",
    "G2 = G\n",
    "GT = Group.GT\n",
    "\n",
    "# ROOTS of unity:\n",
    "# Our example problem will have 6 gates, the next power of two is 8\n",
    "n = 8\n",
    "omega_base = get_omega(Fp, 2 ** 32, seed=0)\n",
    "assert n & n - 1 == 0, \"n must be a power of 2\"\n",
    "omega = omega_base ** (2 ** 32 // n)\n",
    "ROOTS = [omega ** i for i in range(n)]\n",
    "\n",
    "# Polynomials in Lagrange form\n",
    "PolyEvalRep = polynomialsEvalRep(Fp, omega, n)"
   ]
  },
  {
   "attachments": {
    "math.svg": {
     "image/svg+xml": [
      "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"
     ]
    }
   },
   "cell_type": "markdown",
   "metadata": {},
   "source": [
    "\n",
    "## 2. Example Problem Description\n",
    "We use the example problem from Vitalik's blog and construct a proof that we know `x` so that `x**3 + x + 5 == 35`\n",
    "\n",
    "### Circuit\n",
    "Our equation first has to be rewritten into individual operations of addition, multiplication, or constants of the form `a operation b = c` as follows:  \n",
    "`x    * x = var1`  \n",
    "`var1 * x = var2`  \n",
    "`var2 + x = var3`  \n",
    "`       5 = 5`    \n",
    "`      35 = 35`    \n",
    "`var3 + 5 = 35`   \n",
    "\n",
    "The result of this exercise is four vectors:  \n",
    "`a` for the left operands:  `[x, var1, var2, 1, 1 var3]`  \n",
    "`b` for the right operands :`[x, x, x, 5, 35, 5]`  \n",
    "`c` for the results:       `[var1, var2, var3, 5, 35, 35]`  \n",
    "`gates_matrix`  for the operations:   `[mul, mul, add, const, const, add]`  \n",
    "The vector `gates_matrix` represents the gates of our circuit, and the vector `wires` represent all wires of our circuit.\n",
    "\n",
    "### Gates\n",
    "The operations are instantiated using constraints of the form:   ![math.svg](attachment:math.svg). We turn this general form into the gates we want using these values for the Qs:\n",
    "\n",
    "`__________L\tR\tM\t O\tC`  \n",
    "`add\t   1\t1\t0\t-1\t0`  \n",
    "`mul\t   0\t0\t1\t-1\t0`  \n",
    "`cons      0\t1\t0\t0\t-const`  \n",
    "`public    0\t1\t0\t0\t 0`  \n",
    "`empty     0    0    0    0     0`  \n",
    "\n",
    "There are more possible gate constructions, e.g. binary checks, but the ones above are the only ones we need for this example. A side effect of using roots of unity, as mentioned above, is that we need the number of gates has to be a power of two. Therefore, we add two empty gates to our operation vector and to each wire vector.\n"
   ]
  },
  {
   "cell_type": "code",
   "execution_count": null,
   "metadata": {},
   "outputs": [],
   "source": [
    "# Wires\n",
    "a = [\"x\", \"var1\", \"var2\", \"1\",\"1\", \"var3\", \"empty1\", \"empty2\"]\n",
    "b = [\"x\", \"x\", \"x\", \"5\",\"35\", \"5\", \"empty3\", \"empty4\"]\n",
    "c = [\"var1\", \"var2\", \"var3\", \"5\", \"35\", \"35\", \"empty5\", \"empty6\"]\n",
    "\n",
    "wires = a + b + c\n",
    "    \n",
    "# Gates\n",
    "add =          np.array([1, 1, 0, -1,  0])\n",
    "mul =          np.array([0, 0, 1, -1,  0])\n",
    "const5 =       np.array([0, 1, 0,  0, -5])\n",
    "public_input = np.array([0, 1, 0,  0,  0])\n",
    "empty =        np.array([0, 0, 0,  0,  0])\n",
    "    \n",
    "gates_matrix = np.array([mul, mul, add, const5, public_input, add, empty, empty])"
   ]
  },
  {
   "cell_type": "markdown",
   "metadata": {},
   "source": [
    "### Public inputs\n",
    "You may have noticed the `public_input` gate above. Although it is not necessarily needed in our example, we allow the prover to freely choose another value instead of 35 just to show this functionality."
   ]
  },
  {
   "cell_type": "code",
   "execution_count": null,
   "metadata": {},
   "outputs": [],
   "source": [
    "# For the public input we specify the position of the gate and the value\n",
    "L = [4]\n",
    "p_i = 35"
   ]
  },
  {
   "cell_type": "markdown",
   "metadata": {},
   "source": [
    "### Permutation\n",
    "We now have a number of constraints that theoretically combined represent our computation. But in fact nothing enforces them to be combined. For example that the output of the first gate`c[0]=var1` is an input to the second gate `a[1]=var1`. So it is an essential part of PLONK to provide a proof that the wires (`a`,`b`,`c` vector values) are connected. This is done using permutations and explained very well in the Copy Constrainst section of [Vitaliks blog](https://vitalik.ca/general/2019/09/22/plonk.html). So in our example, we take the combined wire vectors `a+b+c` and look at entries that repeat somewhere. If we find a repetition, we swap the indices. e.g. `wires[0] = wire[8]` so we set `permutation[0] = 8` and `permutation[8] = 0`. Note that `permutation[8]` will be swapped again because there are more repetitions of its value on position `9` and `10`."
   ]
  },
  {
   "cell_type": "code",
   "execution_count": null,
   "metadata": {},
   "outputs": [],
   "source": [
    "def permute_indices(wires):\n",
    "    size = len(wires)\n",
    "    permutation = [i + 1 for i in range(size)]\n",
    "    for i in range(size):\n",
    "        for j in range(i+1, size):\n",
    "            if wires[i] == wires[j]:\n",
    "                place_holder = permutation[i]\n",
    "                permutation[i] = permutation[j]\n",
    "                permutation[j] = place_holder\n",
    "                break\n",
    "        return permutation\n",
    "\n",
    "permutation = permute_indices(wires)\n",
    "\n",
    "# Compare the permuation values to the wire values.\n",
    "print(wires)\n",
    "print(permutation)"
   ]
  },
  {
   "cell_type": "markdown",
   "metadata": {},
   "source": [
    "The information gathered so far is sufficient to construct the PLONK setup\n",
    "\n",
    "## 3. Setup Phase\n",
    "The setup is performed by a trusted third party or a multiparty computation. The inputs for the setup are the gates vector, the permutation vector and the public inputs. The purpose of the setup is to create a random and hidden evaluation point for our polynomials and to take some computational work off the shoulders of the verifier.\n",
    "\n",
    "### Gate polynomials\n",
    "As a first step, we convert the gate \"switches\" Ql, Qm, Qr, Qo, Qc into polynomials. In Lagrange form, this is very easy:"
   ]
  },
  {
   "cell_type": "code",
   "execution_count": null,
   "metadata": {},
   "outputs": [],
   "source": [
    "# Transponse the matrix containing the gates values so we can use the rows as evaluations of our polynomials over the ROOTS\n",
    "gates_matrix = gates_matrix.transpose()\n",
    "q_L = PolyEvalRep(ROOTS, [Fp(i) for i in gates_matrix[0]])\n",
    "q_R = PolyEvalRep(ROOTS, [Fp(i) for i in gates_matrix[1]])\n",
    "q_M = PolyEvalRep(ROOTS, [Fp(i) for i in gates_matrix[2]])\n",
    "q_O = PolyEvalRep(ROOTS, [Fp(i) for i in gates_matrix[3]])\n",
    "q_C = PolyEvalRep(ROOTS, [Fp(i) for i in gates_matrix[4]])\n",
    "Qs = [q_L, q_R, q_M, q_O, q_C]"
   ]
  },
  {
   "cell_type": "markdown",
   "metadata": {},
   "source": [
    "### Public input polynomial\n",
    "Next we take the public input and create a  polynomial that vanishes on all `ROOTS`, except for the position of the public input gate where it evaluates to the public input."
   ]
  },
  {
   "cell_type": "code",
   "execution_count": null,
   "metadata": {},
   "outputs": [],
   "source": [
    "public_input = [Fp(0) for i in range(len(ROOTS))]\n",
    "for i in L:\n",
    "    public_input[i] = Fp(-p_i)\n",
    "p_i_poly = PolyEvalRep(ROOTS, public_input)"
   ]
  },
  {
   "cell_type": "markdown",
   "metadata": {},
   "source": [
    "### Permutation Polynomial\n",
    "We are looking for polynomials that we evaluate over our `ROOTS` and which return two sets of `x` values. These `x` values are in turn later used as domains for other polynomials which return the wire values and the permuted wire values. If the prover is honest, the wire values and the permuted wire values are identical. \n",
    "\n",
    "The first set of polynomials would just return the identity values for the lenght of the wires vector. We are using roots of unity, so instead of the identity values being `1, 2, ... 3n` we have our roots of unity for the first `n` values. For the values from `n` to `3n`, we use distinct cosets by just picking a random high order element `k` and multiplying.\n",
    "\n",
    "We then permute the values of the identiy domain according to the permuation derived above. We generate polynomials out of those values."
   ]
  },
  {
   "cell_type": "code",
   "execution_count": null,
   "metadata": {},
   "outputs": [],
   "source": [
    "def random_fp():\n",
    "    return Fp(random.randint(0, Fp.p-1))\n",
    "\n",
    "# We generate domains on which we can later evaluate the wires polynomials\n",
    "k = random_fp()\n",
    "id_domain_a = ROOTS\n",
    "id_domain_b = [k * root for root in ROOTS]\n",
    "id_domain_c = [k**2 * root for root in ROOTS]\n",
    "id_domain = id_domain_a + id_domain_b + id_domain_c\n",
    "\n",
    "# We permute the positions of the domain generated above\n",
    "perm_domain = [id_domain[i - 1] for i in permutation]\n",
    "perm_domain_a = perm_domain[:n]\n",
    "perm_domain_b = perm_domain[n: 2*n]\n",
    "perm_domain_c = perm_domain[2*n:3*n]\n",
    "\n",
    "# Generate polynomials that return the permuted index when evaluated on the\n",
    "# domain\n",
    "S_sigma_1 = PolyEvalRep(ROOTS, perm_domain_a)\n",
    "S_sigma_2 = PolyEvalRep(ROOTS, perm_domain_b)\n",
    "S_sigma_3 = PolyEvalRep(ROOTS, perm_domain_c)\n",
    "Ss = [S_sigma_1, S_sigma_2, S_sigma_3]\n",
    "\n",
    "perm_precomp = [id_domain, perm_domain, k, Ss]"
   ]
  },
  {
   "cell_type": "markdown",
   "metadata": {},
   "source": [
    "### CRS and precomputation\n",
    "In order to create a random and hidden evaluation point, we start with a random element `tau` (which is the toxic waste and has to be destroyed). We raise this element successively to the `i`-th power, `n+3` times. The result is a vector of elements that we only need to multiply with any polynomials coefficients to get an efficient evaluation on the random, unknown point. We call that the common reference string or CRS. The number of points we need depends on the highest degree polynomials in the protocol."
   ]
  },
  {
   "cell_type": "code",
   "execution_count": null,
   "metadata": {},
   "outputs": [],
   "source": [
    "# We perform the trusted setup\n",
    "tau = random_fp()\n",
    "CRS = [G * (tau ** i) for i in range(n + 3)]"
   ]
  },
  {
   "cell_type": "markdown",
   "metadata": {},
   "source": [
    "The verifier will later need the evaluation of the polynomials we constructed above over the CRS. This is an expensive calculation which we can take off his shoulders here so we calculate these. We don't care about computational effort for the setup phase."
   ]
  },
  {
   "cell_type": "code",
   "execution_count": null,
   "metadata": {},
   "outputs": [],
   "source": [
    "# Evaluate a polynomial in exponent\n",
    "def evaluate_in_exponent(powers_of_tau, poly):\n",
    "    assert poly.degree() < len(powers_of_tau)\n",
    "    return sum([powers_of_tau[i] * poly.coefficients[i] for i in\n",
    "                range(poly.degree()+1)], G*0)\n",
    "\n",
    "q_exp = [evaluate_in_exponent(CRS, q.to_coeffs()) for q in Qs]\n",
    "s_exp = [evaluate_in_exponent(CRS, s.to_coeffs()) for s in Ss]\n",
    "x_exp = G2 * tau\n",
    "verifier_preprocessing = [q_exp, s_exp, x_exp]"
   ]
  },
  {
   "cell_type": "markdown",
   "metadata": {},
   "source": [
    "This is the end of the setup phase. The output of this phase is `[CRS, Qs, p_i_poly, perm_precomp, verifier_preprocessing]` and is publicly available."
   ]
  },
  {
   "attachments": {
    "math.svg": {
     "image/svg+xml": [
      "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"
     ]
    }
   },
   "cell_type": "markdown",
   "metadata": {},
   "source": [
    "## Prover Phase\n",
    "The prover knows a solution to our example problem: `x=3`. He plugs this value into the wires to get the witness. Note that we can check if the witness is correct by plugging the witness into the equation:  ![math.svg](attachment:math.svg)"
   ]
  },
  {
   "cell_type": "code",
   "execution_count": null,
   "metadata": {},
   "outputs": [],
   "source": [
    "witness = [3, 9, 27, 1, 1, 30, 0, 0,\n",
    "           3, 3, 3, 5, 35, 5, 0, 0,\n",
    "           9, 27, 30, 5, 35, 35, 0, 0]\n",
    "witness = [Fp(i) for i in witness]\n",
    "\n",
    "# lets check if the witness is correct\n",
    "def eval_poly(poly, domain, shift=Fp(1)):\n",
    "    poly_coeff = poly.to_coeffs()\n",
    "    eval = []\n",
    "    for j in range(len(domain)):\n",
    "        eval += [sum([(domain[j] * shift) ** i * poly_coeff.coefficients[i]\n",
    "                 for i in range(poly_coeff.degree()+1)])]\n",
    "    return eval\n",
    "\n",
    "# We are checking that the first gate is correct. The result should be zero.\n",
    "witness_check = (eval_poly(q_L, [ROOTS[0]])[0] * witness[0] +\n",
    "                 eval_poly(q_R, [ROOTS[0]])[0] * witness[8] +\n",
    "                 eval_poly(q_O, [ROOTS[0]])[0] * witness[16] +\n",
    "                 eval_poly(q_M, [ROOTS[0]])[0] * witness[0] * witness[8] +\n",
    "                 eval_poly(q_C, [ROOTS[0]])[0] * witness[0] +\n",
    "                 eval_poly(p_i_poly, [ROOTS[0]])[0])\n",
    "# note that we also have to deduct the public input here\n",
    "print(witness_check)"
   ]
  },
  {
   "cell_type": "markdown",
   "metadata": {},
   "source": [
    "### Preparation\n",
    "The prover algorithm consists of five rounds of communication between the prover and verifier. Following the paper, we are using the Fiat Shamir heuristic where communication with the verifier is simulated using a random oracle for verifier answers. The log of the communication between the prover and simulated verifier is the transcript.\n",
    "\n",
    "The highest order polynomials we will deal with is of degree `4n+5`. The Lagrange polynomials we have so far are represented by only `n` points. So we need to extend our evaluation domain to the next power of two, which is `8n`. Vitalik provides a good explanation of this domain extension in his STARK blog series. We generate a couple of polynomials for preperation. One that evaluates to the witness over the `ROOTS` and the vanishing polynomial, i.e. the one that evaluates to zero on all `ROOTS`. Because we use roots of unity, this polynomial can be very efficiently calculated as: `x**n-1`. This polynomial is an essential part of many SNARKs and STARKs. Roughly speaking, the claim we want to prove is represented by a polynomial that, if we are honest, vanishes on the ROOTS, so if we divide that by the vanishing polynomial we should get a low degree polynomial without remainder."
   ]
  },
  {
   "cell_type": "code",
   "execution_count": null,
   "metadata": {},
   "outputs": [],
   "source": [
    "# to-do: remove the polys represented with 2n points and convert them to 8n\n",
    "\n",
    "def vanishing_poly(omega, n):\n",
    "    # For the special case of evaluating at all n powers of omega,\n",
    "    # the vanishing poly has a special form.\n",
    "    #  t(X) = (X-1)(X-omega)....(X-omega^(n-1)) = X^n - 1\n",
    "    return Poly([Fp(-1)] + [Fp(0)] * (n - 1) + [Fp(1)])\n",
    "\n",
    "\n",
    "# polys represented with n points\n",
    "omega = omega_base ** (2 ** 32 // n)\n",
    "ROOTS = [omega ** i for i in range(n)]\n",
    "PolyEvalRep = polynomialsEvalRep(Fp, omega, n)\n",
    "witness = [Fp(i) for i in witness]\n",
    "witness_poly_a = PolyEvalRep(ROOTS, witness[:n])\n",
    "witness_poly_b = PolyEvalRep(ROOTS, witness[n:n*2])\n",
    "witness_poly_c = PolyEvalRep(ROOTS, witness[2*n:])\n",
    "vanishing_pol_coeff = vanishing_poly(omega, n)\n",
    "\n",
    "# polys represented with 2*n points\n",
    "omega2 = omega_base ** (2 ** 32 // (2 * n))\n",
    "PolyEvalRep2 = polynomialsEvalRep(Fp, omega2, 2 * n)\n",
    "vanishing_poly_ext = PolyEvalRep2.from_coeffs(vanishing_pol_coeff)\n",
    "witness_poly_a_ext = PolyEvalRep2.from_coeffs(witness_poly_a.to_coeffs())\n",
    "witness_poly_b_ext = PolyEvalRep2.from_coeffs(witness_poly_b.to_coeffs())\n",
    "witness_poly_c_ext = PolyEvalRep2.from_coeffs(witness_poly_c.to_coeffs())\n",
    "\n",
    "# polys represented with 8*n points\n",
    "omega3 = omega_base ** (2 ** 32 // (8 * n))\n",
    "PolyEvalRep3 = polynomialsEvalRep(Fp, omega3, 8 * n)\n",
    "roots3 = [omega3 ** i for i in range(8 * n)]\n",
    "S1, S2, S3 = Ss\n",
    "S1_ext3 = PolyEvalRep3.from_coeffs(S1.to_coeffs())\n",
    "S2_ext3 = PolyEvalRep3.from_coeffs(S2.to_coeffs())\n",
    "S3_ext3 = PolyEvalRep3.from_coeffs(S3.to_coeffs())\n",
    "p_i_poly_ext3 = PolyEvalRep3.from_coeffs(p_i_poly.to_coeffs())\n",
    "qs_ext3 = [PolyEvalRep3.from_coeffs(q.to_coeffs()) for q in Qs]\n",
    "q_L_ext3, q_R_ext3, q_M_ext3, q_O_ext3, q_C_ext3 = qs_ext3"
   ]
  },
  {
   "cell_type": "markdown",
   "metadata": {},
   "source": [
    "### Round 1\n",
    "In the first round, we evaluate the wire polynomials in the exponent, i.e. we provide an encrypted evaluation to the verifier. We multiply the `CRS` values with the coefficients of the wire polynomials. But before we do that we add a \"blinding\" term to it, which has the sole purpose to obfuscate in order to make the protocol \"zero knowledge\". You could leave that part away if you dont care about privacy. Note that we multiply the blinding term with the vanishing polynomial before we add it to the witness polynomial. This ensures that when we evaluate the entire thing on the `ROOTS` we still get the wire values and not some random value."
   ]
  },
  {
   "cell_type": "code",
   "execution_count": null,
   "metadata": {},
   "outputs": [],
   "source": [
    "def random_fp_seeded(seeded):\n",
    "    random.seed(seeded)\n",
    "    return Fp(random.randint(0, Fp.p-1))\n",
    "\n",
    "\n",
    "# Generate \"random\" blinding scalars\n",
    "rand_scalars = [random_fp_seeded(\"1234\") for i in range(9)]\n",
    "\n",
    "# Generate polys with the random scalars as coefficients and convert to\n",
    "# evaluation representation. These are needed for zero knowledge to\n",
    "# obfuscate the witness.\n",
    "a_blind_poly_ext = Poly([rand_scalars[1], rand_scalars[0]])\n",
    "b_blind_poly_ext = Poly([rand_scalars[3], rand_scalars[2]])\n",
    "c_blind_poly_ext = Poly([rand_scalars[5], rand_scalars[4]])\n",
    "a_blind_poly_ext = PolyEvalRep2.from_coeffs(a_blind_poly_ext)\n",
    "b_blind_poly_ext = PolyEvalRep2.from_coeffs(b_blind_poly_ext)\n",
    "c_blind_poly_ext = PolyEvalRep2.from_coeffs(c_blind_poly_ext)\n",
    "\n",
    "# These polynomals have random evaluations at all points except ROOTS where\n",
    "# they evaluate to the witness\n",
    "a_poly_ext = a_blind_poly_ext * vanishing_poly_ext + witness_poly_a_ext\n",
    "b_poly_ext = b_blind_poly_ext * vanishing_poly_ext + witness_poly_b_ext\n",
    "c_poly_ext = c_blind_poly_ext * vanishing_poly_ext + witness_poly_c_ext\n",
    "\n",
    "# Evaluate the witness polynomials in the exponent using the CRS\n",
    "a_eval_exp = evaluate_in_exponent(CRS, a_poly_ext.to_coeffs())\n",
    "b_eval_exp = evaluate_in_exponent(CRS, b_poly_ext.to_coeffs())\n",
    "c_eval_exp = evaluate_in_exponent(CRS, c_poly_ext.to_coeffs())\n",
    "\n",
    "first_output = [a_eval_exp, b_eval_exp, c_eval_exp]\n",
    "print(\"Round 1 Finished with output: \", first_output)"
   ]
  },
  {
   "cell_type": "markdown",
   "metadata": {},
   "source": [
    "### Round 2\n",
    "The imaginary verifier responds to the first round output with two permutation challenges, which we simulate by hashing the transcript. Given the two challenges, we calculate the accumulator polynomial. The first summand of it is again only needed for zero knowledge and can be left out if this is not necessary. The second `accumulator_poly_eval` is a huge term that deserves its own function. Read Vitalik's blog on PLONK in the Copy Constraints section to get an in depth understanding of what it does happens. Tl; dr: the polynomial accumulates linear combinations of the x and y values. If we apply this to a set of x and y values where the xs are permuted for identical ys, we get the same result. We commit to this polynomial by evaluating it with the CRS. This evaluation point is the output of round 2."
   ]
  },
  {
   "cell_type": "code",
   "execution_count": null,
   "metadata": {},
   "outputs": [],
   "source": [
    "def accumulator_factor(n, i, witness, beta, id_domain, perm_domain, gamma):\n",
    "    res = Fp(1)\n",
    "    for j in range(i):\n",
    "        nom_1 =   witness[j]         + beta * id_domain[j]     + gamma\n",
    "        denom_1 = witness[j]         + beta * id_domain[j]     + gamma\n",
    "\n",
    "        nom_2 =   witness[n + j]     + beta * id_domain[n+j]   + gamma\n",
    "        denom_2 = witness[n + j]     + beta * id_domain[n+j]   + gamma\n",
    "\n",
    "        nom_3 =   witness[2 * n + j] + beta * id_domain[2*n+j] + gamma\n",
    "        denom_3 = witness[2 * n + j] + beta * perm_domain[2*n+j] + gamma\n",
    "        res *= (nom_1 / denom_1) * (nom_2 / denom_2) * (nom_3 / denom_3)\n",
    "    return res\n",
    "\n",
    "\n",
    "# Compute permutation challenges from imaginary verifier\n",
    "beta = random_fp_seeded(str(first_output) + \"0\")\n",
    "gamma = random_fp_seeded(str(first_output) + \"1\")\n",
    "\n",
    "# Compute permutation polynomial. z_1 is the blinding summand needed for ZK\n",
    "z_1 = Poly([rand_scalars[8], rand_scalars[7], rand_scalars[6]])\n",
    "z_1 = PolyEvalRep2.from_coeffs(z_1)\n",
    "z_1 = z_1 * vanishing_poly_ext\n",
    "\n",
    "accumulator_poly_eval = [Fp(1)]\n",
    "accumulator_poly_eval += [accumulator_factor(n,\n",
    "                                             i,\n",
    "                                             witness, beta,\n",
    "                                             id_domain,\n",
    "                                             perm_domain,\n",
    "                                             gamma)\n",
    "                          for i in range(n-1)]\n",
    "accumulator_poly = PolyEvalRep(ROOTS, accumulator_poly_eval)\n",
    "accumulator_poly = z_1 + PolyEvalRep2.from_coeffs(accumulator_poly.to_coeffs())\n",
    "second_output = evaluate_in_exponent(CRS, accumulator_poly.to_coeffs())\n",
    "print(\"Round 2 Finished with output: \", second_output)"
   ]
  },
  {
   "cell_type": "markdown",
   "metadata": {},
   "source": [
    "### Round 3\n",
    "This round has a lot going on. Again, we first hash the transcript of the previous rounds to generate a verifier challenge. Next we create a shifted accumulator polynomial by multiplying its argmuent with the root of unity. This is because the accumulator polynomial is constructed with two constraints: `p(0)=1` and `p(x+1) = p(x) * linearcomb_of_x_and_y`. Since we are using roots of unity, the shift `x+1` translates to `x * ROOTS[1]`\n",
    "\n",
    "Given this, we generate a polynomial `t`, which represents the entire statement we want to prove:\n",
    "The first part of `t` is just the witness applied to the gates equation. This will evaluate to zero over all `ROOTS` if we have calculated all individual gates correctly. The second, third, and fourth part of `t` are checking the accumulator polynomial constraints. If the prover has connected all wires correctly, these should cancel out and also evaluate to zero on all `ROOTS`. \n",
    "\n",
    "Adding these up results in a polynomial that evaluates to zero over all ROOTS, if the prover knows a correct solution to the problem. \n",
    "\n",
    "The prover now divides this polynomial by the vanishing polyomial, which works without residue only if he is in possession of the correct nominator of `t`. Try to change something in the witness above and check the degree of the resulting polynomial division. Note that we use a special division algorithm here to avoid division by zero. \n",
    "\n",
    "Lastly, we split up the result into three polynomials of degree <n+3 by factoring out x^(n+2) and x^(2n+4). We return commitments to these three polynomials."
   ]
  },
  {
   "cell_type": "code",
   "execution_count": null,
   "metadata": {},
   "outputs": [],
   "source": [
    "alpha = random_fp_seeded(str(first_output) + str(second_output))\n",
    "\n",
    "accumulator_poly_ext3 = PolyEvalRep3.from_coeffs(accumulator_poly.to_coeffs())\n",
    "\n",
    "# The third summand of t has the accumulator poly evaluated at a shift\n",
    "accumulator_poly_shift_evaluations = eval_poly(accumulator_poly,\n",
    "                                               roots3,\n",
    "                                               ROOTS[1])\n",
    "accumulator_poly_ext3_shift = PolyEvalRep3(roots3,\n",
    "                                           accumulator_poly_shift_evaluations)\n",
    "\n",
    "a_poly_ext3 = PolyEvalRep3.from_coeffs(a_poly_ext.to_coeffs())\n",
    "b_poly_ext3 = PolyEvalRep3.from_coeffs(b_poly_ext.to_coeffs())\n",
    "c_poly_ext3 = PolyEvalRep3.from_coeffs(c_poly_ext.to_coeffs())\n",
    "\n",
    "id_poly_1_ext3 = PolyEvalRep3.from_coeffs(Poly([gamma, beta]))\n",
    "id_poly_2_ext3 = PolyEvalRep3.from_coeffs(Poly([gamma, beta * k]))\n",
    "id_poly_3_ext3 = PolyEvalRep3.from_coeffs(Poly([gamma, beta * k**2]))\n",
    "\n",
    "gamma_poly = PolyEvalRep3.from_coeffs(Poly([gamma]))\n",
    "L_1 = PolyEvalRep(ROOTS, [Fp(1)] + [Fp(0) for i in range(len(ROOTS)-1)])\n",
    "\n",
    "# Compute quotient polynomial: we are dividing by the vanishing poly which\n",
    "# has zeros at n roots so we need to do division by swapping to a coset\n",
    "# first summand should have degree 3n+1, second and third should have\n",
    "# degree 4n + 5\n",
    "t = ((a_poly_ext3 * b_poly_ext3 * q_M_ext3) +\n",
    "     (a_poly_ext3 * q_L_ext3) +\n",
    "     (b_poly_ext3 * q_R_ext3) +\n",
    "     (c_poly_ext3 * q_O_ext3) +\n",
    "     q_C_ext3 + p_i_poly_ext3)\n",
    "\n",
    "# to-do print a check that it evaluates to zero over roots\n",
    "\n",
    "t += ((a_poly_ext3 + id_poly_1_ext3) *\n",
    "      (b_poly_ext3 + id_poly_2_ext3) *\n",
    "      (c_poly_ext3 + id_poly_3_ext3) * accumulator_poly_ext3 * alpha)\n",
    "\n",
    "t -= ((a_poly_ext3 + S1_ext3 * beta + gamma_poly) *\n",
    "      (b_poly_ext3 + S2_ext3 * beta + gamma_poly) *\n",
    "      (c_poly_ext3 + S3_ext3 * beta + gamma_poly) *\n",
    "      accumulator_poly_ext3_shift * alpha)\n",
    "\n",
    "t += ((accumulator_poly_ext3 - PolyEvalRep3.from_coeffs(Poly([Fp(1)]))) *\n",
    "      PolyEvalRep3.from_coeffs(L_1.to_coeffs()) * alpha ** 2)\n",
    "\n",
    "# to-do print a check that it evaluates to zero over roots\n",
    "\n",
    "t = PolyEvalRep3.divideWithCoset(t.to_coeffs(), vanishing_pol_coeff)\n",
    "# to-do print a check that it evaluates to zero over roots\n",
    "# to-do print a degree check\n",
    "\n",
    "t_coeff = t.coefficients\n",
    "\n",
    "# We split up the polynomial t in three polynomials so that:\n",
    "# t= t_lo + x^n*t_mid + t^2n*t_hi\n",
    "# I found that n has actually to be (n+2) to accomodate the CRS because\n",
    "# t can be of degree 4n+5\n",
    "t_lo = Poly(t_coeff[:n+2])\n",
    "t_mid = Poly(t_coeff[n+2:2*(n+2)])\n",
    "t_hi = Poly(t_coeff[2*(n+2):])\n",
    "\n",
    "t_lo_eval_exp = evaluate_in_exponent(CRS, t_lo)\n",
    "t_mid_eval_exp = evaluate_in_exponent(CRS, t_mid)\n",
    "t_hi_eval_exp = evaluate_in_exponent(CRS, t_hi)\n",
    "\n",
    "third_output = [t_lo_eval_exp, t_mid_eval_exp, t_hi_eval_exp]\n",
    "print(\"Round 3 Finished with output: \", third_output)"
   ]
  },
  {
   "cell_type": "markdown",
   "metadata": {},
   "source": [
    "### Round 4\n",
    "The simulated verifier again hashes the transcript to send a challenge point at which he or she wants the commited polynomials to be challenged. Now is a good time to re-read [how Kate commitments work](https://dankradfeist.de/ethereum/2020/06/16/kate-polynomial-commitments.html) tl; dr: `f(z) = y` means that `f(x)-y` is divisible by `x-z` so if you can provide the quotient you are likely to actually have that polynomial. In our case `zeta` below is `z` and e.g. `a_zeta` would be `y`.\n",
    "\n",
    "...more text..."
   ]
  },
  {
   "cell_type": "code",
   "execution_count": null,
   "metadata": {},
   "outputs": [],
   "source": [
    "# Compute the evaluation challenge\n",
    "zeta = random_fp_seeded(str(first_output) +\n",
    "                        str(second_output) +\n",
    "                        str(third_output))\n",
    "\n",
    "# Compute the opening evaluations\n",
    "a_zeta = eval_poly(a_poly_ext, [zeta])[0]\n",
    "b_zeta = eval_poly(b_poly_ext, [zeta])[0]\n",
    "c_zeta = eval_poly(c_poly_ext, [zeta])[0]\n",
    "S_1_zeta = eval_poly(S1, [zeta])[0]\n",
    "S_2_zeta = eval_poly(S2, [zeta])[0]\n",
    "t_zeta = eval_poly(PolyEvalRep3.from_coeffs(t), [zeta])[0]\n",
    "accumulator_shift_zeta = eval_poly(accumulator_poly_ext3,\n",
    "                                   [zeta * ROOTS[1]])[0]\n",
    "\n",
    "# Compute linearisation polynomial\n",
    "r = (q_M_ext3 * a_zeta * b_zeta +\n",
    "     q_L_ext3 * a_zeta +\n",
    "     q_R_ext3 * b_zeta +\n",
    "     q_O_ext3 * c_zeta +\n",
    "     q_C_ext3)\n",
    "r += (accumulator_poly_ext3 *\n",
    "      (a_zeta + beta * zeta + gamma) *\n",
    "      (b_zeta + beta * k * zeta + gamma) *\n",
    "      (c_zeta + beta * (k ** 2) * zeta + gamma) * alpha)\n",
    "r -= (S3_ext3 *\n",
    "      (a_zeta + beta * S_1_zeta + gamma) *\n",
    "      (b_zeta + beta * S_2_zeta + gamma) *\n",
    "      alpha * beta * accumulator_shift_zeta)\n",
    "r += accumulator_poly_ext3 * eval_poly(L_1, [zeta])[0] * alpha ** 2\n",
    "\n",
    "# Evaluate r at zeta\n",
    "r_zeta = eval_poly(r, [zeta])[0]\n",
    "\n",
    "fourth_output = [a_zeta, b_zeta, c_zeta, S_1_zeta, S_2_zeta,\n",
    "                 accumulator_shift_zeta, t_zeta, r_zeta]\n",
    "print(\"Round 4 Finished with output: \", fourth_output)"
   ]
  },
  {
   "cell_type": "markdown",
   "metadata": {},
   "source": [
    "### Round5\n",
    "text..."
   ]
  },
  {
   "cell_type": "code",
   "execution_count": null,
   "metadata": {},
   "outputs": [],
   "source": [
    "# Compute opening challeng\n",
    "nu = random_fp_seeded(str(first_output) +\n",
    "                      str(second_output) +\n",
    "                      str(third_output) +\n",
    "                      str(fourth_output))\n",
    "\n",
    "# Compute opening proof polynomial\n",
    "W_zeta = (PolyEvalRep3.from_coeffs(t_lo) +\n",
    "          PolyEvalRep3.from_coeffs(t_mid) * zeta ** (n+2) +\n",
    "          PolyEvalRep3.from_coeffs(t_hi) * zeta ** (2*(n+2)) -\n",
    "          PolyEvalRep3.from_coeffs(Poly([t_zeta])) +\n",
    "          (r - PolyEvalRep3.from_coeffs(Poly([r_zeta]))) * nu +\n",
    "          (a_poly_ext3 - PolyEvalRep3.from_coeffs(Poly([a_zeta]))) * nu ** 2 +\n",
    "          (b_poly_ext3 - PolyEvalRep3.from_coeffs(Poly([b_zeta]))) * nu ** 3 +\n",
    "          (c_poly_ext3 - PolyEvalRep3.from_coeffs(Poly([c_zeta]))) * nu ** 4 +\n",
    "          (S1_ext3 - PolyEvalRep3.from_coeffs(Poly([S_1_zeta]))) * nu ** 5 +\n",
    "          (S2_ext3 - PolyEvalRep3.from_coeffs(Poly([S_2_zeta]))) * nu ** 6)\n",
    "W_zeta = W_zeta / PolyEvalRep3.from_coeffs(Poly([-zeta, Fp(1)]))\n",
    "\n",
    "# Compute the opening proof polynomial\n",
    "W_zeta_omega = accumulator_poly_ext3 - PolyEvalRep3.from_coeffs(Poly([accumulator_shift_zeta]))\n",
    "W_zeta_omega = W_zeta_omega / PolyEvalRep3.from_coeffs(Poly([-zeta*ROOTS[1], Fp(1)]))\n",
    "\n",
    "W_zeta_eval_exp = evaluate_in_exponent(CRS, W_zeta.to_coeffs())\n",
    "W_zeta_omega_eval_exp = evaluate_in_exponent(CRS, W_zeta_omega.to_coeffs())\n",
    "\n",
    "fifth_output = [W_zeta_eval_exp, W_zeta_omega_eval_exp]\n",
    "proof_SNARK = [first_output, second_output, third_output, fifth_output, fourth_output]\n",
    "print(\"Round 5 Finished with output: \", fifth_output)\n",
    "\n",
    "u = random_fp_seeded(str(proof_SNARK))"
   ]
  },
  {
   "cell_type": "markdown",
   "metadata": {},
   "source": [
    "## Verifier Phase\n",
    "text\n"
   ]
  },
  {
   "cell_type": "code",
   "execution_count": null,
   "metadata": {},
   "outputs": [],
   "source": [
    "first_output, second_output, third_output, fifth_output, fourth_output = proof_SNARK\n",
    "a_eval_exp, b_eval_exp, c_eval_exp = first_output\n",
    "z_eval_exp = second_output\n",
    "t_lo_eval_exp, t_mid_eval_exp, t_hi_eval_exp = third_output\n",
    "a_zeta, b_zeta, c_zeta, S_1_zeta, S_2_zeta, accumulator_shift_zeta, t_zeta, r_zeta = fourth_output\n",
    "W_zeta_eval_exp, W_zeta_omega_eval_exp = fifth_output\n",
    "\n",
    "q_exp, s_exp, x_exp = verifier_preprocessing\n",
    "q_L_exp, q_R_exp, q_M_exp, q_O_exp, q_C_exp = q_exp\n",
    "s_1_exp, s_2_exp, s_3_exp = s_exp"
   ]
  },
  {
   "cell_type": "markdown",
   "metadata": {},
   "source": [
    "### Step1 - 3: Typechecks"
   ]
  },
  {
   "cell_type": "code",
   "execution_count": null,
   "metadata": {},
   "outputs": [],
   "source": [
    "# Check1: Elements in group?\n",
    "assert type(a_eval_exp) is SS_BLS12_381\n",
    "assert type(b_eval_exp) is SS_BLS12_381\n",
    "assert type(c_eval_exp) is SS_BLS12_381\n",
    "assert type(z_eval_exp) is SS_BLS12_381\n",
    "assert type(t_lo_eval_exp) is SS_BLS12_381\n",
    "assert type(t_mid_eval_exp) is SS_BLS12_381\n",
    "assert type(t_hi_eval_exp) is SS_BLS12_381\n",
    "assert type(W_zeta_eval_exp) is SS_BLS12_381\n",
    "assert type(W_zeta_omega_eval_exp) is SS_BLS12_381\n",
    "\n",
    "# Check2: Elements in field?\n",
    "assert type(a_zeta) is Fp\n",
    "assert type(b_zeta) is Fp\n",
    "assert type(c_zeta) is Fp\n",
    "assert type(S_1_zeta) is Fp\n",
    "assert type(S_2_zeta) is Fp\n",
    "assert type(r_zeta) is Fp\n",
    "assert type(accumulator_shift_zeta) is Fp\n",
    "\n",
    "# Check3: Public input in field?\n",
    "assert type(p_i_poly) == polynomialsEvalRep(Fp, omega, n)"
   ]
  },
  {
   "cell_type": "markdown",
   "metadata": {},
   "source": [
    "\n",
    "### Step 4: Recompute challenges from transcript\n",
    "text"
   ]
  },
  {
   "cell_type": "code",
   "execution_count": null,
   "metadata": {},
   "outputs": [],
   "source": [
    "# Step4: Recompute challenges from transcript\n",
    "beta = random_fp_seeded(str(first_output) + \"0\")\n",
    "gamma = random_fp_seeded(str(first_output) + \"1\")\n",
    "alpha = random_fp_seeded(str(first_output) + str(second_output))\n",
    "zeta = random_fp_seeded(str(first_output) +\n",
    "                        str(second_output) +\n",
    "                        str(third_output))\n",
    "nu = random_fp_seeded(str(first_output) +\n",
    "                      str(second_output) +\n",
    "                      str(third_output) +\n",
    "                      str(fourth_output))\n",
    "u = random_fp_seeded(str(proof_SNARK))"
   ]
  },
  {
   "cell_type": "markdown",
   "metadata": {},
   "source": [
    "### Step 5 - 7: Evaluate polynomials at Zeta\n",
    "text"
   ]
  },
  {
   "cell_type": "code",
   "execution_count": null,
   "metadata": {},
   "outputs": [],
   "source": [
    "# Step5: Evaluate vanishing polynomial at zeta\n",
    "vanishing_poly_eval = zeta ** n - Fp(1)\n",
    "\n",
    "# Step6: Evaluate lagrange polynomial at zeta\n",
    "L_1_zeta = (zeta ** n - Fp(1)) / (n*(zeta - Fp(1)))\n",
    "\n",
    "# Step7: Evaluate public input polynomial at zeta\n",
    "p_i_poly_zeta = eval_poly(p_i_poly, [zeta])[0]"
   ]
  },
  {
   "cell_type": "markdown",
   "metadata": {},
   "source": [
    "### Step8: Compute quotient polynomial evaluation\n",
    "text"
   ]
  },
  {
   "cell_type": "code",
   "execution_count": null,
   "metadata": {},
   "outputs": [],
   "source": [
    "t_zeta = (r_zeta + p_i_poly_zeta -\n",
    "          (a_zeta + beta * S_1_zeta + gamma) *\n",
    "          (b_zeta + beta * S_2_zeta + gamma) *\n",
    "          (c_zeta + gamma) * accumulator_shift_zeta * alpha -\n",
    "          L_1_zeta * alpha ** 2) / vanishing_poly_eval"
   ]
  },
  {
   "cell_type": "markdown",
   "metadata": {},
   "source": [
    "### Step9: Comupte first part of batched polynomial commitment\n",
    "text"
   ]
  },
  {
   "cell_type": "code",
   "execution_count": null,
   "metadata": {},
   "outputs": [],
   "source": [
    "D_1_exp = (q_M_exp * a_zeta * b_zeta * nu +\n",
    "           q_L_exp * a_zeta * nu +\n",
    "           q_R_exp * b_zeta * nu +\n",
    "           q_O_exp * c_zeta * nu +\n",
    "           q_C_exp * nu)\n",
    "D_1_exp += (z_eval_exp * (\n",
    "            (a_zeta + beta * zeta + gamma) *\n",
    "            (b_zeta + beta * k * zeta + gamma) *\n",
    "            (c_zeta + beta * (k ** 2) * zeta + gamma) * alpha * nu\n",
    "            + L_1_zeta * (alpha ** 2) * nu + u))\n",
    "D_1_exp += (s_3_exp *\n",
    "            (a_zeta + beta * S_1_zeta + gamma) *\n",
    "            (b_zeta + beta * S_2_zeta + gamma) *\n",
    "            alpha * beta * accumulator_shift_zeta * nu) * Fp(-1)"
   ]
  },
  {
   "cell_type": "markdown",
   "metadata": {},
   "source": [
    "### Step10: Compute full batched polynomial commitment\n",
    "text"
   ]
  },
  {
   "cell_type": "code",
   "execution_count": null,
   "metadata": {},
   "outputs": [],
   "source": [
    "F_1_exp = (t_lo_eval_exp +\n",
    "           t_mid_eval_exp * zeta ** (n+2) +\n",
    "           t_hi_eval_exp * zeta ** (2*(n+2)) +\n",
    "           D_1_exp +\n",
    "           a_eval_exp * nu ** 2 +\n",
    "           b_eval_exp * nu ** 3 +\n",
    "           c_eval_exp * nu ** 4 +\n",
    "           s_1_exp * nu ** 5 +\n",
    "           s_2_exp * nu ** 6)"
   ]
  },
  {
   "cell_type": "markdown",
   "metadata": {},
   "source": [
    "### Step 11: Compute group encoded batch evaluation\n",
    "text"
   ]
  },
  {
   "cell_type": "code",
   "execution_count": null,
   "metadata": {},
   "outputs": [],
   "source": [
    "E_1_exp = G * (t_zeta +\n",
    "               nu * r_zeta +\n",
    "               nu ** 2 * a_zeta +\n",
    "               nu ** 3 * b_zeta +\n",
    "               nu ** 4 * c_zeta +\n",
    "               nu ** 5 * S_1_zeta +\n",
    "               nu ** 6 * S_2_zeta +\n",
    "               u * accumulator_shift_zeta)"
   ]
  },
  {
   "cell_type": "markdown",
   "metadata": {},
   "source": [
    "### Check12: Batch validate all evaluations via pairing\n",
    "text"
   ]
  },
  {
   "cell_type": "code",
   "execution_count": null,
   "metadata": {},
   "outputs": [],
   "source": [
    "e11 = W_zeta_eval_exp + W_zeta_omega_eval_exp * u\n",
    "e21 = (W_zeta_eval_exp * zeta + W_zeta_omega_eval_exp * u * zeta * omega +\n",
    "       F_1_exp + (E_1_exp * Fp(-1)))\n",
    "assert e11.pair(x_exp) == e21.pair(G2)\n",
    "print(\"Verification Successful!\")"
   ]
  },
  {
   "cell_type": "markdown",
   "metadata": {},
   "source": [
    "text"
   ]
  }
 ],
 "metadata": {
  "kernelspec": {
   "display_name": "Python 3",
   "language": "python",
   "name": "python3"
  },
  "language_info": {
   "codemirror_mode": {
    "name": "ipython",
    "version": 3
   },
   "file_extension": ".py",
   "mimetype": "text/x-python",
   "name": "python",
   "nbconvert_exporter": "python",
   "pygments_lexer": "ipython3",
   "version": "3.7.6"
  }
 },
 "nbformat": 4,
 "nbformat_minor": 4
}
